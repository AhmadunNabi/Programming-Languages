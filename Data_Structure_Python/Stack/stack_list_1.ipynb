{
 "cells": [
  {
   "cell_type": "markdown",
   "id": "975c3d1d",
   "metadata": {},
   "source": [
    "### List as Stack"
   ]
  },
  {
   "cell_type": "code",
   "execution_count": 16,
   "id": "18f0682c",
   "metadata": {},
   "outputs": [],
   "source": [
    "stack = []"
   ]
  },
  {
   "cell_type": "code",
   "execution_count": 17,
   "id": "7d794652",
   "metadata": {},
   "outputs": [],
   "source": [
    "stack.append(10)\n",
    "stack.append(20)\n",
    "stack.append(30)"
   ]
  },
  {
   "cell_type": "code",
   "execution_count": 18,
   "id": "3687eb1a",
   "metadata": {},
   "outputs": [
    {
     "data": {
      "text/plain": [
       "[10, 20, 30]"
      ]
     },
     "execution_count": 18,
     "metadata": {},
     "output_type": "execute_result"
    }
   ],
   "source": [
    "stack"
   ]
  },
  {
   "cell_type": "code",
   "execution_count": 19,
   "id": "74b802fe",
   "metadata": {},
   "outputs": [
    {
     "data": {
      "text/plain": [
       "30"
      ]
     },
     "execution_count": 19,
     "metadata": {},
     "output_type": "execute_result"
    }
   ],
   "source": [
    "stack.pop()"
   ]
  },
  {
   "cell_type": "code",
   "execution_count": 20,
   "id": "b303d5bc",
   "metadata": {},
   "outputs": [
    {
     "data": {
      "text/plain": [
       "20"
      ]
     },
     "execution_count": 20,
     "metadata": {},
     "output_type": "execute_result"
    }
   ],
   "source": [
    "stack.pop()"
   ]
  },
  {
   "cell_type": "code",
   "execution_count": 21,
   "id": "856cedf0",
   "metadata": {},
   "outputs": [
    {
     "data": {
      "text/plain": [
       "10"
      ]
     },
     "execution_count": 21,
     "metadata": {},
     "output_type": "execute_result"
    }
   ],
   "source": [
    "stack.pop()"
   ]
  },
  {
   "cell_type": "code",
   "execution_count": 22,
   "id": "eb436498",
   "metadata": {},
   "outputs": [
    {
     "ename": "IndexError",
     "evalue": "pop from empty list",
     "output_type": "error",
     "traceback": [
      "\u001b[0;31m---------------------------------------------------------------------------\u001b[0m",
      "\u001b[0;31mIndexError\u001b[0m                                Traceback (most recent call last)",
      "\u001b[0;32m/tmp/ipykernel_23430/2667379430.py\u001b[0m in \u001b[0;36m<module>\u001b[0;34m\u001b[0m\n\u001b[0;32m----> 1\u001b[0;31m \u001b[0mstack\u001b[0m\u001b[0;34m.\u001b[0m\u001b[0mpop\u001b[0m\u001b[0;34m(\u001b[0m\u001b[0;34m)\u001b[0m\u001b[0;34m\u001b[0m\u001b[0;34m\u001b[0m\u001b[0m\n\u001b[0m",
      "\u001b[0;31mIndexError\u001b[0m: pop from empty list"
     ]
    }
   ],
   "source": [
    "stack.pop()"
   ]
  },
  {
   "cell_type": "markdown",
   "id": "bbb833b3",
   "metadata": {},
   "source": [
    "Check whether the stack is empty"
   ]
  },
  {
   "cell_type": "code",
   "execution_count": 23,
   "id": "cac15c07",
   "metadata": {},
   "outputs": [
    {
     "data": {
      "text/plain": [
       "True"
      ]
     },
     "execution_count": 23,
     "metadata": {},
     "output_type": "execute_result"
    }
   ],
   "source": [
    "len(stack) == 0"
   ]
  },
  {
   "cell_type": "code",
   "execution_count": 24,
   "id": "c7c26695",
   "metadata": {},
   "outputs": [
    {
     "data": {
      "text/plain": [
       "True"
      ]
     },
     "execution_count": 24,
     "metadata": {},
     "output_type": "execute_result"
    }
   ],
   "source": [
    "not stack"
   ]
  },
  {
   "cell_type": "markdown",
   "id": "6705fb64",
   "metadata": {},
   "source": [
    "Access top element"
   ]
  },
  {
   "cell_type": "code",
   "execution_count": 25,
   "id": "37208661",
   "metadata": {},
   "outputs": [],
   "source": [
    "stack.append(123)"
   ]
  },
  {
   "cell_type": "code",
   "execution_count": 26,
   "id": "8e5a14d9",
   "metadata": {},
   "outputs": [],
   "source": [
    "stack.append(43)"
   ]
  },
  {
   "cell_type": "code",
   "execution_count": 27,
   "id": "c1baa1d1",
   "metadata": {},
   "outputs": [
    {
     "data": {
      "text/plain": [
       "43"
      ]
     },
     "execution_count": 27,
     "metadata": {},
     "output_type": "execute_result"
    }
   ],
   "source": [
    "stack[-1]"
   ]
  }
 ],
 "metadata": {
  "kernelspec": {
   "display_name": "Python 3 (ipykernel)",
   "language": "python",
   "name": "python3"
  },
  "language_info": {
   "codemirror_mode": {
    "name": "ipython",
    "version": 3
   },
   "file_extension": ".py",
   "mimetype": "text/x-python",
   "name": "python",
   "nbconvert_exporter": "python",
   "pygments_lexer": "ipython3",
   "version": "3.9.7"
  }
 },
 "nbformat": 4,
 "nbformat_minor": 5
}
